{
 "cells": [
  {
   "attachments": {
    "f723983f-1259-4774-a7e9-d52b813c9e2e.jpg": {
     "image/jpeg": "[encoded data removed]"
    }
   },
   "cell_type": "markdown",
   "id": "0cc50f8e",
   "metadata": {
    "papermill": {
     "duration": 0.017269,
     "end_time": "2022-03-24T10:52:34.920754",
     "exception": false,
     "start_time": "2022-03-24T10:52:34.903485",
     "status": "completed"
    },
    "tags": []
   },
   "source": [
    "![s-nkGlvNtKOmg-unsplash.jpg](attachment:f723983f-1259-4774-a7e9-d52b813c9e2e.jpg)"
   ]
  },
  {
   "cell_type": "markdown",
   "id": "79655e7b",
   "metadata": {
    "execution": {
     "iopub.execute_input": "2022-03-04T17:39:25.501334Z",
     "iopub.status.busy": "2022-03-04T17:39:25.500974Z",
     "iopub.status.idle": "2022-03-04T17:39:25.525183Z",
     "shell.execute_reply": "2022-03-04T17:39:25.524364Z",
     "shell.execute_reply.started": "2022-03-04T17:39:25.501242Z"
    },
    "papermill": {
     "duration": 0.016317,
     "end_time": "2022-03-24T10:52:34.953786",
     "exception": false,
     "start_time": "2022-03-24T10:52:34.937469",
     "status": "completed"
    },
    "tags": []
   },
   "source": [
    "##### Photo by S. on Unsplash"
   ]
  },
  {
   "cell_type": "code",
   "execution_count": 1,
   "id": "b066ae3a",
   "metadata": {
    "_cell_guid": "b1076dfc-b9ad-4769-8c92-a6c4dae69d19",
    "_uuid": "8f2839f25d086af736a60e9eeb907d3b93b6e0e5",
    "execution": {
     "iopub.execute_input": "2022-03-24T10:52:35.000473Z",
     "iopub.status.busy": "2022-03-24T10:52:34.997218Z",
     "iopub.status.idle": "2022-03-24T10:52:36.529916Z",
     "shell.execute_reply": "2022-03-24T10:52:36.529406Z",
     "shell.execute_reply.started": "2022-03-05T19:04:47.568724Z"
    },
    "papermill": {
     "duration": 1.559756,
     "end_time": "2022-03-24T10:52:36.530042",
     "exception": false,
     "start_time": "2022-03-24T10:52:34.970286",
     "status": "completed"
    },
    "tags": []
   },
   "outputs": [],
   "source": [
    "import pandas as pd\n",
    "from sklearn.metrics import mean_absolute_error\n",
    "import numpy as np\n",
    "import seaborn as sns\n",
    "import matplotlib.pyplot as plt\n",
    "import xgboost as xgb"
   ]
  },
  {
   "cell_type": "code",
   "execution_count": 2,
   "id": "98b8704a",
   "metadata": {
    "execution": {
     "iopub.execute_input": "2022-03-24T10:52:36.567380Z",
     "iopub.status.busy": "2022-03-24T10:52:36.566898Z",
     "iopub.status.idle": "2022-03-24T10:52:37.537453Z",
     "shell.execute_reply": "2022-03-24T10:52:37.537817Z",
     "shell.execute_reply.started": "2022-03-05T19:04:48.921069Z"
    },
    "papermill": {
     "duration": 0.989733,
     "end_time": "2022-03-24T10:52:37.537975",
     "exception": false,
     "start_time": "2022-03-24T10:52:36.548242",
     "status": "completed"
    },
    "tags": []
   },
   "outputs": [],
   "source": [
    "df_train = pd.read_csv('../input/tabular-playground-series-mar-2022/train.csv', index_col = 'row_id')\n",
    "df_test = pd.read_csv('../input/tabular-playground-series-mar-2022/test.csv', index_col = 'row_id')"
   ]
  },
  {
   "cell_type": "code",
   "execution_count": 3,
   "id": "feb7fb3b",
   "metadata": {
    "execution": {
     "iopub.execute_input": "2022-03-24T10:52:37.653664Z",
     "iopub.status.busy": "2022-03-24T10:52:37.653016Z",
     "iopub.status.idle": "2022-03-24T10:52:37.818661Z",
     "shell.execute_reply": "2022-03-24T10:52:37.818109Z",
     "shell.execute_reply.started": "2022-03-05T19:04:49.731515Z"
    },
    "papermill": {
     "duration": 0.263904,
     "end_time": "2022-03-24T10:52:37.818770",
     "exception": false,
     "start_time": "2022-03-24T10:52:37.554866",
     "status": "completed"
    },
    "tags": []
   },
   "outputs": [],
   "source": [
    "df_train.time = pd.to_datetime(df_train.time)\n",
    "df_test.time = pd.to_datetime(df_test.time)"
   ]
  },
  {
   "cell_type": "code",
   "execution_count": 4,
   "id": "740bf6ef",
   "metadata": {
    "execution": {
     "iopub.execute_input": "2022-03-24T10:52:37.858656Z",
     "iopub.status.busy": "2022-03-24T10:52:37.858051Z",
     "iopub.status.idle": "2022-03-24T10:52:38.159252Z",
     "shell.execute_reply": "2022-03-24T10:52:38.158810Z",
     "shell.execute_reply.started": "2022-03-05T19:04:49.879363Z"
    },
    "papermill": {
     "duration": 0.323435,
     "end_time": "2022-03-24T10:52:38.159383",
     "exception": false,
     "start_time": "2022-03-24T10:52:37.835948",
     "status": "completed"
    },
    "tags": []
   },
   "outputs": [],
   "source": [
    "for df in [df_train, df_test]:\n",
    "    df['weekday'] = df.time.dt.weekday\n",
    "    df['hour'] = df.time.dt.hour\n",
    "    df['minute'] = df.time.dt.minute"
   ]
  },
  {
   "cell_type": "code",
   "execution_count": 5,
   "id": "0dca6b9f",
   "metadata": {
    "execution": {
     "iopub.execute_input": "2022-03-24T10:52:38.201483Z",
     "iopub.status.busy": "2022-03-24T10:52:38.200725Z",
     "iopub.status.idle": "2022-03-24T10:52:38.218369Z",
     "shell.execute_reply": "2022-03-24T10:52:38.217941Z",
     "shell.execute_reply.started": "2022-03-05T19:04:50.153474Z"
    },
    "papermill": {
     "duration": 0.041844,
     "end_time": "2022-03-24T10:52:38.218490",
     "exception": false,
     "start_time": "2022-03-24T10:52:38.176646",
     "status": "completed"
    },
    "tags": []
   },
   "outputs": [
    {
     "data": {
      "text/html": [
       "<div>\n",
       "<style scoped>\n",
       "    .dataframe tbody tr th:only-of-type {\n",
       "        vertical-align: middle;\n",
       "    }\n",
       "\n",
       "    .dataframe tbody tr th {\n",
       "        vertical-align: top;\n",
       "    }\n",
       "\n",
       "    .dataframe thead th {\n",
       "        text-align: right;\n",
       "    }\n",
       "</style>\n",
       "<table border=\"1\" class=\"dataframe\">\n",
       "  <thead>\n",
       "    <tr style=\"text-align: right;\">\n",
       "      <th></th>\n",
       "      <th>time</th>\n",
       "      <th>x</th>\n",
       "      <th>y</th>\n",
       "      <th>direction</th>\n",
       "      <th>congestion</th>\n",
       "      <th>weekday</th>\n",
       "      <th>hour</th>\n",
       "      <th>minute</th>\n",
       "    </tr>\n",
       "    <tr>\n",
       "      <th>row_id</th>\n",
       "      <th></th>\n",
       "      <th></th>\n",
       "      <th></th>\n",
       "      <th></th>\n",
       "      <th></th>\n",
       "      <th></th>\n",
       "      <th></th>\n",
       "      <th></th>\n",
       "    </tr>\n",
       "  </thead>\n",
       "  <tbody>\n",
       "    <tr>\n",
       "      <th>0</th>\n",
       "      <td>1991-04-01</td>\n",
       "      <td>0</td>\n",
       "      <td>0</td>\n",
       "      <td>EB</td>\n",
       "      <td>70</td>\n",
       "      <td>0</td>\n",
       "      <td>0</td>\n",
       "      <td>0</td>\n",
       "    </tr>\n",
       "    <tr>\n",
       "      <th>1</th>\n",
       "      <td>1991-04-01</td>\n",
       "      <td>0</td>\n",
       "      <td>0</td>\n",
       "      <td>NB</td>\n",
       "      <td>49</td>\n",
       "      <td>0</td>\n",
       "      <td>0</td>\n",
       "      <td>0</td>\n",
       "    </tr>\n",
       "    <tr>\n",
       "      <th>2</th>\n",
       "      <td>1991-04-01</td>\n",
       "      <td>0</td>\n",
       "      <td>0</td>\n",
       "      <td>SB</td>\n",
       "      <td>24</td>\n",
       "      <td>0</td>\n",
       "      <td>0</td>\n",
       "      <td>0</td>\n",
       "    </tr>\n",
       "    <tr>\n",
       "      <th>3</th>\n",
       "      <td>1991-04-01</td>\n",
       "      <td>0</td>\n",
       "      <td>1</td>\n",
       "      <td>EB</td>\n",
       "      <td>18</td>\n",
       "      <td>0</td>\n",
       "      <td>0</td>\n",
       "      <td>0</td>\n",
       "    </tr>\n",
       "    <tr>\n",
       "      <th>4</th>\n",
       "      <td>1991-04-01</td>\n",
       "      <td>0</td>\n",
       "      <td>1</td>\n",
       "      <td>NB</td>\n",
       "      <td>60</td>\n",
       "      <td>0</td>\n",
       "      <td>0</td>\n",
       "      <td>0</td>\n",
       "    </tr>\n",
       "  </tbody>\n",
       "</table>\n",
       "</div>"
      ],
      "text/plain": [
       "             time  x  y direction  congestion  weekday  hour  minute\n",
       "row_id                                                              \n",
       "0      1991-04-01  0  0        EB          70        0     0       0\n",
       "1      1991-04-01  0  0        NB          49        0     0       0\n",
       "2      1991-04-01  0  0        SB          24        0     0       0\n",
       "3      1991-04-01  0  1        EB          18        0     0       0\n",
       "4      1991-04-01  0  1        NB          60        0     0       0"
      ]
     },
     "execution_count": 5,
     "metadata": {},
     "output_type": "execute_result"
    }
   ],
   "source": [
    "df_train.head()"
   ]
  },
  {
   "cell_type": "code",
   "execution_count": 6,
   "id": "9036bc15",
   "metadata": {
    "execution": {
     "iopub.execute_input": "2022-03-24T10:52:38.259128Z",
     "iopub.status.busy": "2022-03-24T10:52:38.258420Z",
     "iopub.status.idle": "2022-03-24T10:52:38.518635Z",
     "shell.execute_reply": "2022-03-24T10:52:38.517927Z",
     "shell.execute_reply.started": "2022-03-05T19:04:50.17872Z"
    },
    "papermill": {
     "duration": 0.283229,
     "end_time": "2022-03-24T10:52:38.518773",
     "exception": false,
     "start_time": "2022-03-24T10:52:38.235544",
     "status": "completed"
    },
    "tags": []
   },
   "outputs": [],
   "source": [
    "X = df_train.drop(columns = ['congestion','time'])\n",
    "y = df_train['congestion']\n",
    "X = pd.get_dummies(X)\n",
    "df_test = df_test.drop(columns = 'time')\n",
    "df_test = pd.get_dummies(df_test)"
   ]
  },
  {
   "cell_type": "code",
   "execution_count": 7,
   "id": "4733aeac",
   "metadata": {
    "execution": {
     "iopub.execute_input": "2022-03-24T10:52:38.573477Z",
     "iopub.status.busy": "2022-03-24T10:52:38.572816Z",
     "iopub.status.idle": "2022-03-24T10:52:38.575898Z",
     "shell.execute_reply": "2022-03-24T10:52:38.576428Z",
     "shell.execute_reply.started": "2022-03-05T19:04:50.418982Z"
    },
    "papermill": {
     "duration": 0.032215,
     "end_time": "2022-03-24T10:52:38.576569",
     "exception": false,
     "start_time": "2022-03-24T10:52:38.544354",
     "status": "completed"
    },
    "tags": []
   },
   "outputs": [],
   "source": [
    "from sklearn.model_selection import train_test_split"
   ]
  },
  {
   "cell_type": "code",
   "execution_count": 8,
   "id": "7abd3acb",
   "metadata": {
    "execution": {
     "iopub.execute_input": "2022-03-24T10:52:38.631622Z",
     "iopub.status.busy": "2022-03-24T10:52:38.630966Z",
     "iopub.status.idle": "2022-03-24T10:52:38.634780Z",
     "shell.execute_reply": "2022-03-24T10:52:38.635264Z",
     "shell.execute_reply.started": "2022-03-05T19:04:50.42582Z"
    },
    "papermill": {
     "duration": 0.032961,
     "end_time": "2022-03-24T10:52:38.635433",
     "exception": false,
     "start_time": "2022-03-24T10:52:38.602472",
     "status": "completed"
    },
    "tags": []
   },
   "outputs": [],
   "source": [
    "model = xgb.XGBRegressor(n_estimators=999)"
   ]
  },
  {
   "cell_type": "code",
   "execution_count": 9,
   "id": "60239b38",
   "metadata": {
    "execution": {
     "iopub.execute_input": "2022-03-24T10:52:38.689494Z",
     "iopub.status.busy": "2022-03-24T10:52:38.688884Z",
     "iopub.status.idle": "2022-03-24T10:52:39.076284Z",
     "shell.execute_reply": "2022-03-24T10:52:39.075749Z",
     "shell.execute_reply.started": "2022-03-05T19:04:50.440262Z"
    },
    "papermill": {
     "duration": 0.415562,
     "end_time": "2022-03-24T10:52:39.076438",
     "exception": false,
     "start_time": "2022-03-24T10:52:38.660876",
     "status": "completed"
    },
    "tags": []
   },
   "outputs": [],
   "source": [
    "X_train, X_test, y_train, y_test = train_test_split(X,y)"
   ]
  },
  {
   "cell_type": "code",
   "execution_count": 10,
   "id": "2541e7fe",
   "metadata": {
    "execution": {
     "iopub.execute_input": "2022-03-24T10:52:39.137500Z",
     "iopub.status.busy": "2022-03-24T10:52:39.134251Z",
     "iopub.status.idle": "2022-03-24T10:57:14.235965Z",
     "shell.execute_reply": "2022-03-24T10:57:14.236498Z",
     "shell.execute_reply.started": "2022-03-05T19:04:57.108294Z"
    },
    "papermill": {
     "duration": 275.13463,
     "end_time": "2022-03-24T10:57:14.236674",
     "exception": false,
     "start_time": "2022-03-24T10:52:39.102044",
     "status": "completed"
    },
    "tags": []
   },
   "outputs": [
    {
     "data": {
      "text/plain": [
       "XGBRegressor(base_score=0.5, booster='gbtree', colsample_bylevel=1,\n",
       "             colsample_bynode=1, colsample_bytree=1, enable_categorical=False,\n",
       "             gamma=0, gpu_id=-1, importance_type=None,\n",
       "             interaction_constraints='', learning_rate=0.300000012,\n",
       "             max_delta_step=0, max_depth=6, min_child_weight=1, missing=nan,\n",
       "             monotone_constraints='()', n_estimators=999, n_jobs=4,\n",
       "             num_parallel_tree=1, predictor='auto', random_state=0, reg_alpha=0,\n",
       "             reg_lambda=1, scale_pos_weight=1, subsample=1, tree_method='exact',\n",
       "             validate_parameters=1, verbosity=None)"
      ]
     },
     "execution_count": 10,
     "metadata": {},
     "output_type": "execute_result"
    }
   ],
   "source": [
    "model.fit(X_train, y_train)"
   ]
  },
  {
   "cell_type": "code",
   "execution_count": 11,
   "id": "5e297147",
   "metadata": {
    "execution": {
     "iopub.execute_input": "2022-03-24T10:57:14.294733Z",
     "iopub.status.busy": "2022-03-24T10:57:14.294047Z",
     "iopub.status.idle": "2022-03-24T10:57:16.636660Z",
     "shell.execute_reply": "2022-03-24T10:57:16.637213Z",
     "shell.execute_reply.started": "2022-03-05T19:10:23.671814Z"
    },
    "papermill": {
     "duration": 2.374328,
     "end_time": "2022-03-24T10:57:16.637427",
     "exception": false,
     "start_time": "2022-03-24T10:57:14.263099",
     "status": "completed"
    },
    "tags": []
   },
   "outputs": [],
   "source": [
    "predictions = model.predict(X_test)"
   ]
  },
  {
   "cell_type": "code",
   "execution_count": 12,
   "id": "47c66b73",
   "metadata": {
    "execution": {
     "iopub.execute_input": "2022-03-24T10:57:16.695008Z",
     "iopub.status.busy": "2022-03-24T10:57:16.694409Z",
     "iopub.status.idle": "2022-03-24T10:57:16.702837Z",
     "shell.execute_reply": "2022-03-24T10:57:16.701972Z",
     "shell.execute_reply.started": "2022-03-05T19:10:26.599061Z"
    },
    "papermill": {
     "duration": 0.037631,
     "end_time": "2022-03-24T10:57:16.703000",
     "exception": false,
     "start_time": "2022-03-24T10:57:16.665369",
     "status": "completed"
    },
    "tags": []
   },
   "outputs": [
    {
     "data": {
      "text/plain": [
       "6.335267706263264"
      ]
     },
     "execution_count": 12,
     "metadata": {},
     "output_type": "execute_result"
    }
   ],
   "source": [
    "mean_absolute_error(y_test, predictions)"
   ]
  },
  {
   "cell_type": "code",
   "execution_count": 13,
   "id": "ed6c53ad",
   "metadata": {
    "execution": {
     "iopub.execute_input": "2022-03-24T10:57:16.760774Z",
     "iopub.status.busy": "2022-03-24T10:57:16.760139Z",
     "iopub.status.idle": "2022-03-24T10:57:16.770377Z",
     "shell.execute_reply": "2022-03-24T10:57:16.770899Z",
     "shell.execute_reply.started": "2022-03-05T19:10:33.318576Z"
    },
    "papermill": {
     "duration": 0.040297,
     "end_time": "2022-03-24T10:57:16.771079",
     "exception": false,
     "start_time": "2022-03-24T10:57:16.730782",
     "status": "completed"
    },
    "tags": []
   },
   "outputs": [
    {
     "data": {
      "text/plain": [
       "direction_NW    0.339613\n",
       "direction_SE    0.190190\n",
       "direction_SB    0.103364\n",
       "direction_NB    0.064615\n",
       "direction_NE    0.060703\n",
       "direction_SW    0.058332\n",
       "y               0.051957\n",
       "x               0.051269\n",
       "direction_EB    0.040691\n",
       "direction_WB    0.019260\n",
       "hour            0.013993\n",
       "weekday         0.004507\n",
       "minute          0.001506\n",
       "dtype: float32"
      ]
     },
     "execution_count": 13,
     "metadata": {},
     "output_type": "execute_result"
    }
   ],
   "source": [
    "feature_imp = pd.Series(model.feature_importances_,index=X.columns).sort_values(ascending=False)\n",
    "feature_imp"
   ]
  },
  {
   "cell_type": "code",
   "execution_count": 14,
   "id": "7f5e691d",
   "metadata": {
    "execution": {
     "iopub.execute_input": "2022-03-24T10:57:16.829259Z",
     "iopub.status.busy": "2022-03-24T10:57:16.828627Z",
     "iopub.status.idle": "2022-03-24T10:57:17.091968Z",
     "shell.execute_reply": "2022-03-24T10:57:17.091343Z",
     "shell.execute_reply.started": "2022-03-05T19:10:34.770662Z"
    },
    "papermill": {
     "duration": 0.293654,
     "end_time": "2022-03-24T10:57:17.092115",
     "exception": false,
     "start_time": "2022-03-24T10:57:16.798461",
     "status": "completed"
    },
    "tags": []
   },
   "outputs": [
    {
     "data": {
      "image/png": "[encoded data removed]",
      "text/plain": [
       "<Figure size 432x288 with 1 Axes>"
      ]
     },
     "metadata": {
      "needs_background": "light"
     },
     "output_type": "display_data"
    }
   ],
   "source": [
    "sns.barplot(x=feature_imp, y=feature_imp.index)\n",
    "plt.xlabel('Feature Importance Score')\n",
    "plt.ylabel('Features')\n",
    "plt.title(\"Feature Importance\")\n",
    "plt.legend()\n",
    "plt.show()"
   ]
  },
  {
   "cell_type": "code",
   "execution_count": 15,
   "id": "1c30e3bd",
   "metadata": {
    "execution": {
     "iopub.execute_input": "2022-03-24T10:57:17.154771Z",
     "iopub.status.busy": "2022-03-24T10:57:17.153002Z",
     "iopub.status.idle": "2022-03-24T10:57:17.192455Z",
     "shell.execute_reply": "2022-03-24T10:57:17.191754Z",
     "shell.execute_reply.started": "2022-03-05T19:10:36.798212Z"
    },
    "papermill": {
     "duration": 0.072007,
     "end_time": "2022-03-24T10:57:17.192607",
     "exception": false,
     "start_time": "2022-03-24T10:57:17.120600",
     "status": "completed"
    },
    "tags": []
   },
   "outputs": [],
   "source": [
    "predictions = model.predict(df_test)"
   ]
  },
  {
   "cell_type": "code",
   "execution_count": 16,
   "id": "8d5f9117",
   "metadata": {
    "execution": {
     "iopub.execute_input": "2022-03-24T10:57:17.255478Z",
     "iopub.status.busy": "2022-03-24T10:57:17.254834Z",
     "iopub.status.idle": "2022-03-24T10:57:17.265025Z",
     "shell.execute_reply": "2022-03-24T10:57:17.265591Z",
     "shell.execute_reply.started": "2022-03-05T19:10:37.534468Z"
    },
    "papermill": {
     "duration": 0.044101,
     "end_time": "2022-03-24T10:57:17.265778",
     "exception": false,
     "start_time": "2022-03-24T10:57:17.221677",
     "status": "completed"
    },
    "tags": []
   },
   "outputs": [],
   "source": [
    "sample = pd.read_csv('../input/tabular-playground-series-mar-2022/sample_submission.csv', index_col = 'row_id')"
   ]
  },
  {
   "cell_type": "code",
   "execution_count": 17,
   "id": "3c324fbe",
   "metadata": {
    "execution": {
     "iopub.execute_input": "2022-03-24T10:57:17.327023Z",
     "iopub.status.busy": "2022-03-24T10:57:17.326388Z",
     "iopub.status.idle": "2022-03-24T10:57:17.330558Z",
     "shell.execute_reply": "2022-03-24T10:57:17.331144Z",
     "shell.execute_reply.started": "2022-03-05T19:10:38.092631Z"
    },
    "papermill": {
     "duration": 0.036296,
     "end_time": "2022-03-24T10:57:17.331334",
     "exception": false,
     "start_time": "2022-03-24T10:57:17.295038",
     "status": "completed"
    },
    "tags": []
   },
   "outputs": [],
   "source": [
    "sample['congestion'] = predictions"
   ]
  },
  {
   "cell_type": "code",
   "execution_count": 18,
   "id": "24df5b86",
   "metadata": {
    "execution": {
     "iopub.execute_input": "2022-03-24T10:57:17.391146Z",
     "iopub.status.busy": "2022-03-24T10:57:17.390531Z",
     "iopub.status.idle": "2022-03-24T10:57:17.404533Z",
     "shell.execute_reply": "2022-03-24T10:57:17.405033Z",
     "shell.execute_reply.started": "2022-03-05T19:10:41.117356Z"
    },
    "papermill": {
     "duration": 0.045527,
     "end_time": "2022-03-24T10:57:17.405227",
     "exception": false,
     "start_time": "2022-03-24T10:57:17.359700",
     "status": "completed"
    },
    "tags": []
   },
   "outputs": [],
   "source": [
    "sample.to_csv('my_submission.csv')"
   ]
  }
 ],
 "metadata": {
  "kernelspec": {
   "display_name": "Python 3",
   "language": "python",
   "name": "python3"
  },
  "language_info": {
   "codemirror_mode": {
    "name": "ipython",
    "version": 3
   },
   "file_extension": ".py",
   "mimetype": "text/x-python",
   "name": "python",
   "nbconvert_exporter": "python",
   "pygments_lexer": "ipython3",
   "version": "3.7.12"
  },
  "papermill": {
   "default_parameters": {},
   "duration": 294.808341,
   "end_time": "2022-03-24T10:57:18.346537",
   "environment_variables": {},
   "exception": null,
   "input_path": "__notebook__.ipynb",
   "output_path": "__notebook__.ipynb",
   "parameters": {},
   "start_time": "2022-03-24T10:52:23.538196",
   "version": "2.3.3"
  }
 },
 "nbformat": 4,
 "nbformat_minor": 5
}
